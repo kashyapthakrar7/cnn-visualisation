{
 "cells": [
  {
   "cell_type": "markdown",
   "metadata": {},
   "source": [
    "<a href=\"https://colab.research.google.com/github/soumendra/cnn-visualisation/blob/vijendra/notebooks/deep_learning_toolbox.ipynb\" target=\"_parent\"><img src=\"https://colab.research.google.com/assets/colab-badge.svg\" alt=\"Open In Colab\"/></a>"
   ]
  },
  {
   "cell_type": "markdown",
   "metadata": {},
   "source": [
    "## What is Conda?"
   ]
  },
  {
   "cell_type": "markdown",
   "metadata": {},
   "source": [
    "Conda is a open source package management system and environment manager system, that works on windows, linux and mac. Conda quickly installs, runs and updates packages and their dependencies. It was created for Python programs, but it can package and distribute software for any language."
   ]
  },
  {
   "cell_type": "markdown",
   "metadata": {},
   "source": [
    "## Creating and using Conda environments"
   ]
  },
  {
   "cell_type": "markdown",
   "metadata": {},
   "source": [
    "### 1. Creating blank environment from terminal"
   ]
  },
  {
   "cell_type": "markdown",
   "metadata": {},
   "source": [
    "**Open Conda CLI and enter** \n",
    "```bash\n",
    "$ conda create -n test_env python=3.6\n",
    "```"
   ]
  },
  {
   "cell_type": "markdown",
   "metadata": {},
   "source": [
    "**List of your conda environment**\n",
    "```bash\n",
    "$ conda env list\n",
    "```"
   ]
  },
  {
   "cell_type": "markdown",
   "metadata": {},
   "source": [
    "This will create a new conda environment called `test_env`.  \n",
    "**To activate this environment, use: ** \n",
    "```bash\n",
    "$ conda activate test_env\n",
    "```"
   ]
  },
  {
   "cell_type": "markdown",
   "metadata": {},
   "source": [
    "Now we are inside a conda environment. This python environment is isolated from our default python install.  \n",
    "We can now install python packages in this environment and these newly installed packages will not be reflected in our default install. Similarly, the packages that we already have installed in our default python installation will not be available inside this environment.  \n",
    "**To install new packages inside a conda environment use** \n",
    "```bash\n",
    "$ conda install package-name\n",
    "```"
   ]
  },
  {
   "cell_type": "markdown",
   "metadata": {},
   "source": [
    "**To deactivate an environment simply do**  \n",
    "```bash\n",
    "$ conda deactivate\n",
    "```"
   ]
  },
  {
   "cell_type": "markdown",
   "metadata": {},
   "source": [
    "### 2. Creating environment from a .yml file"
   ]
  },
  {
   "cell_type": "markdown",
   "metadata": {},
   "source": [
    "**To create a conda environment from a yaml file, use**\n",
    "```bash\n",
    "$ conda env create -f stats.yml\n",
    "```"
   ]
  },
  {
   "cell_type": "markdown",
   "metadata": {},
   "source": [
    "Here `stats.yml` is file name of a yaml file. An example yml file is as follows \n",
    "```yml\n",
    "name: stats\n",
    "channels:\n",
    "    - conda-forge\n",
    "dependencies:\n",
    "    - python=3.4\n",
    "    - bokeh=0.9.2\n",
    "    - numpy=1.9.*\n",
    "    - flask\n",
    "    - pip:\n",
    "        - Flask-Testing\n",
    "```"
   ]
  },
  {
   "cell_type": "markdown",
   "metadata": {},
   "source": [
    "Here, `channels` represents the source from which our packages are going to be pulled. These sources can be examined at anaconda.org (example https://anaconda.org/conda-forge)  \n",
    "For packages that are not present in one of the trusted conda sources, one can use `pip` tag to get those packages from PyPi."
   ]
  },
  {
   "cell_type": "markdown",
   "metadata": {},
   "source": [
    "### 3. Update conda environment using .yml file"
   ]
  },
  {
   "cell_type": "markdown",
   "metadata": {},
   "source": [
    "To update a conda environment created using a `yaml` file (add a new dependency), simply modify the `yaml` file and run  \n",
    "```bash\n",
    "$ conda env update -f stats.yml\n",
    "```"
   ]
  },
  {
   "cell_type": "markdown",
   "metadata": {},
   "source": [
    "Conda should automatically identify the new package and install appropriate / specified version of it."
   ]
  },
  {
   "cell_type": "markdown",
   "metadata": {},
   "source": [
    "### 4. Delete conda environment"
   ]
  },
  {
   "cell_type": "markdown",
   "metadata": {},
   "source": [
    "To delete a conda environment, simply deactivate out of the environment and run  \n",
    "```bash\n",
    "$ conda remove -n env_name --all\n",
    "```"
   ]
  },
  {
   "cell_type": "markdown",
   "metadata": {},
   "source": [
    "### 5. List conda env and packages"
   ]
  },
  {
   "cell_type": "markdown",
   "metadata": {},
   "source": [
    "To list conda environments  \n",
    "```bash\n",
    "$ conda env list\n",
    "```"
   ]
  },
  {
   "cell_type": "markdown",
   "metadata": {},
   "source": [
    "To list packages inside a conda environment  \n",
    "```bash\n",
    "$ conda list\n",
    "```"
   ]
  },
  {
   "cell_type": "markdown",
   "metadata": {},
   "source": [
    "---"
   ]
  },
  {
   "cell_type": "markdown",
   "metadata": {},
   "source": [
    "## Jupyter with Conda"
   ]
  },
  {
   "cell_type": "markdown",
   "metadata": {},
   "source": [
    "**Jupyter Notebook**\n",
    "\n",
    "The Jupyter Notebook is an incredibly powerful tool for interactively developing and presenting data science projects. A notebook integrates code and its output into a single document that combines visualisations, narrative text, mathematical equations, and other rich media. The intuitive workflow promotes iterative and rapid development, making notebooks an increasingly popular choice at the heart of contemporary data science, analysis, and increasingly science at large. "
   ]
  },
  {
   "cell_type": "markdown",
   "metadata": {},
   "source": [
    "### 1. Access jupyter notebook from terminal"
   ]
  },
  {
   "cell_type": "markdown",
   "metadata": {},
   "source": [
    "To install jupyter notebook, use\n",
    "```bash\n",
    "$ conda install jupyter\n",
    "```"
   ]
  },
  {
   "cell_type": "markdown",
   "metadata": {},
   "source": [
    "Getting started with jupyter notebook, type\n",
    "```bash\n",
    "$ jupyter notebook\n",
    "```"
   ]
  },
  {
   "cell_type": "markdown",
   "metadata": {},
   "source": [
    "### 2. Lets build a base model on MNIST dataset using jupyter notebook"
   ]
  },
  {
   "cell_type": "markdown",
   "metadata": {},
   "source": [
    "MNIST data set consists of 60,000 greyscale images of numbers from 0-9. \n",
    " \n",
    " **-- Traing set** - 60000 images of shape(28,28,1)\n",
    " \n",
    " **-- Test Set**   - 10,000 images"
   ]
  },
  {
   "cell_type": "markdown",
   "metadata": {},
   "source": [
    "## Using Google Colab"
   ]
  },
  {
   "cell_type": "markdown",
   "metadata": {},
   "source": [
    "When creating a new notebook in colab, we get a few packages already installed.  \n",
    "Packages like `tensorflow`, `keras` and `opencv` are already present."
   ]
  },
  {
   "cell_type": "markdown",
   "metadata": {},
   "source": [
    "### 1. Changing runtime type"
   ]
  },
  {
   "cell_type": "markdown",
   "metadata": {},
   "source": [
    "To change runtype or hardware accelerator, goto  \n",
    "`Runtime > Change runtime type`"
   ]
  },
  {
   "cell_type": "markdown",
   "metadata": {},
   "source": [
    "### 2. Testing GPU availability"
   ]
  },
  {
   "cell_type": "markdown",
   "metadata": {},
   "source": [
    "```python\n",
    "import tensorflow as tf\n",
    "tf.test.is_gpu_available()\n",
    "```"
   ]
  },
  {
   "cell_type": "markdown",
   "metadata": {},
   "source": [
    "### 3. Public Github repo\n",
    "To load an ipython notebook from a public github repo, simply do  \n",
    "`File > Open > Github`  \n",
    "Provide github access if asked, then enter username of repo owner.  \n",
    "Select repository from dropdown, select branch, a list of all `ipynb` present in that branch should appear. Click on the notebook and it should open up."
   ]
  },
  {
   "cell_type": "markdown",
   "metadata": {},
   "source": [
    "One thing to note is that this notebook is in playground mode, and any changes made to the notebook won't be saved anywhere. In order to modify the notebook and save it, we need to make a copy of the notebook in drive.  \n",
    "Once created, we can make changes to this notebook and save it."
   ]
  },
  {
   "cell_type": "markdown",
   "metadata": {},
   "source": [
    "### 4. Saving to Github"
   ]
  },
  {
   "cell_type": "markdown",
   "metadata": {},
   "source": [
    "`File > Save a copy to Github`  \n",
    "Select repository, branch, write commit message and click ok"
   ]
  },
  {
   "cell_type": "markdown",
   "metadata": {},
   "source": [
    "A good workflow is to load a notebook from github, make changes, and save it back to github."
   ]
  },
  {
   "cell_type": "markdown",
   "metadata": {},
   "source": []
  },
  {
   "cell_type": "markdown",
   "metadata": {},
   "source": []
  },
  {
   "cell_type": "markdown",
   "metadata": {},
   "source": []
  }
 ],
 "metadata": {
  "kernelspec": {
   "display_name": "Python 3",
   "language": "python",
   "name": "python3"
  },
  "language_info": {
   "codemirror_mode": {
    "name": "ipython",
    "version": 3
   },
   "file_extension": ".py",
   "mimetype": "text/x-python",
   "name": "python",
   "nbconvert_exporter": "python",
   "pygments_lexer": "ipython3",
   "version": "3.6.5"
  }
 },
 "nbformat": 4,
 "nbformat_minor": 2
}
