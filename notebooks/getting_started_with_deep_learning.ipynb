{
  "nbformat": 4,
  "nbformat_minor": 0,
  "metadata": {
    "colab": {
      "name": "getting_started_with_deep_learning.ipynb",
      "version": "0.3.2",
      "provenance": [],
      "collapsed_sections": [],
      "include_colab_link": true
    },
    "kernelspec": {
      "name": "python3",
      "display_name": "Python 3"
    },
    "accelerator": "GPU"
  },
  "cells": [
    {
      "cell_type": "markdown",
      "metadata": {
        "id": "view-in-github",
        "colab_type": "text"
      },
      "source": [
        "<a href=\"https://colab.research.google.com/github/soumendra/cnn-visualisation/blob/jawad/notebooks/getting_started_with_deep_learning.ipynb\" target=\"_parent\"><img src=\"https://colab.research.google.com/assets/colab-badge.svg\" alt=\"Open In Colab\"/></a>"
      ]
    },
    {
      "metadata": {
        "id": "b-rza-AISL33",
        "colab_type": "text"
      },
      "cell_type": "markdown",
      "source": [
        "# Getting Started with Deep Learning (using Keras)"
      ]
    },
    {
      "metadata": {
        "id": "mKnOVh3ZS6vQ",
        "colab_type": "text"
      },
      "cell_type": "markdown",
      "source": [
        "## Application of Deep Learning on Computer Vision"
      ]
    },
    {
      "metadata": {
        "id": "9UYJlxBrTBtu",
        "colab_type": "text"
      },
      "cell_type": "markdown",
      "source": [
        ""
      ]
    },
    {
      "metadata": {
        "id": "1b96wK19ZBOL",
        "colab_type": "text"
      },
      "cell_type": "markdown",
      "source": [
        "---"
      ]
    },
    {
      "metadata": {
        "id": "LVO-x2G2TA8l",
        "colab_type": "text"
      },
      "cell_type": "markdown",
      "source": [
        "## What we'll do"
      ]
    },
    {
      "metadata": {
        "id": "7mQF-IYtSlV3",
        "colab_type": "text"
      },
      "cell_type": "markdown",
      "source": [
        "We'll build Convolutional models and train them on two different datasets - \n",
        "1. MNIST\n",
        "2. CIFAR10"
      ]
    },
    {
      "metadata": {
        "id": "YpCvHdUzS3rf",
        "colab_type": "text"
      },
      "cell_type": "markdown",
      "source": [
        "## MNIST"
      ]
    },
    {
      "metadata": {
        "id": "yQjWtIB6Tdt3",
        "colab_type": "text"
      },
      "cell_type": "markdown",
      "source": [
        "### 1. Importing dependencies and setting seeds"
      ]
    },
    {
      "metadata": {
        "id": "ykL_rx5vTjXR",
        "colab_type": "code",
        "colab": {
          "base_uri": "https://localhost:8080/",
          "height": 34
        },
        "outputId": "30ea506f-4a7b-4049-ec86-6e7ae1b60e6d"
      },
      "cell_type": "code",
      "source": [
        "from numpy.random import seed\n",
        "seed(1)\n",
        "from tensorflow import set_random_seed\n",
        "set_random_seed(2)\n",
        "\n",
        "import keras\n",
        "from keras.datasets import mnist\n",
        "from keras.models import Sequential\n",
        "from keras.layers import Dense, Dropout, Flatten\n",
        "from keras.layers import Conv2D, MaxPooling2D"
      ],
      "execution_count": 1,
      "outputs": [
        {
          "output_type": "stream",
          "text": [
            "Using TensorFlow backend.\n"
          ],
          "name": "stderr"
        }
      ]
    },
    {
      "metadata": {
        "id": "FQqFtAaNTjuD",
        "colab_type": "text"
      },
      "cell_type": "markdown",
      "source": [
        "### 2. Declaring some constants"
      ]
    },
    {
      "metadata": {
        "id": "OWO2KI75TuEw",
        "colab_type": "code",
        "colab": {}
      },
      "cell_type": "code",
      "source": [
        "batch_size = 128\n",
        "num_classes = 10\n",
        "epochs = 12\n",
        "\n",
        "# input image dimensions\n",
        "img_rows, img_cols = 28, 28"
      ],
      "execution_count": 0,
      "outputs": []
    },
    {
      "metadata": {
        "id": "Uc-jLIc7T3Fd",
        "colab_type": "text"
      },
      "cell_type": "markdown",
      "source": [
        "### 3. Loading and making our data usable"
      ]
    },
    {
      "metadata": {
        "id": "GMPjfClbT1Em",
        "colab_type": "code",
        "colab": {
          "base_uri": "https://localhost:8080/",
          "height": 68
        },
        "outputId": "40e89129-e7f9-4537-d7b6-d5137c899995"
      },
      "cell_type": "code",
      "source": [
        "# the data, split between train and test sets\n",
        "(x_train, y_train), (x_test, y_test) = mnist.load_data()\n",
        "\n",
        "x_train = x_train.reshape(x_train.shape[0], img_rows, img_cols, 1)\n",
        "x_test = x_test.reshape(x_test.shape[0], img_rows, img_cols, 1)\n",
        "input_shape = (img_rows, img_cols, 1)\n",
        "\n",
        "x_train = x_train.astype('float32')\n",
        "x_test = x_test.astype('float32')\n",
        "x_train /= 255\n",
        "x_test /= 255\n",
        "print('x_train shape:', x_train.shape)\n",
        "print(x_train.shape[0], 'train images')\n",
        "print(x_test.shape[0], 'test images')"
      ],
      "execution_count": 3,
      "outputs": [
        {
          "output_type": "stream",
          "text": [
            "x_train shape: (60000, 28, 28, 1)\n",
            "60000 train images\n",
            "10000 test images\n"
          ],
          "name": "stdout"
        }
      ]
    },
    {
      "metadata": {
        "id": "o-b0g8hhUM99",
        "colab_type": "text"
      },
      "cell_type": "markdown",
      "source": [
        "### 4. One hot encoding of output classes"
      ]
    },
    {
      "metadata": {
        "id": "c_nRENhyUFw0",
        "colab_type": "code",
        "colab": {}
      },
      "cell_type": "code",
      "source": [
        "# convert class vectors to binary class matrices\n",
        "y_train = keras.utils.to_categorical(y_train, num_classes)\n",
        "y_test = keras.utils.to_categorical(y_test, num_classes)"
      ],
      "execution_count": 0,
      "outputs": []
    },
    {
      "metadata": {
        "id": "0iQa24QwUmhr",
        "colab_type": "text"
      },
      "cell_type": "markdown",
      "source": [
        "### 5. Our first Model 😁"
      ]
    },
    {
      "metadata": {
        "id": "fe6FTGajWmH0",
        "colab_type": "text"
      },
      "cell_type": "markdown",
      "source": [
        "#### 5.1 Architecture"
      ]
    },
    {
      "metadata": {
        "id": "NvragukgVDMj",
        "colab_type": "code",
        "colab": {}
      },
      "cell_type": "code",
      "source": [
        "model = Sequential()\n",
        "model.add(Conv2D(32, kernel_size=(3, 3),\n",
        "                 activation='relu',\n",
        "                 input_shape=input_shape))\n",
        "model.add(Conv2D(64, (3, 3), activation='relu'))\n",
        "model.add(MaxPooling2D(pool_size=(2, 2)))\n",
        "model.add(Dropout(0.25))\n",
        "model.add(Flatten())\n",
        "model.add(Dense(128, activation='relu'))\n",
        "model.add(Dropout(0.5))\n",
        "model.add(Dense(num_classes, activation='softmax'))\n",
        "\n",
        "model.compile(loss=keras.losses.categorical_crossentropy,\n",
        "              optimizer=keras.optimizers.SGD(momentum=0.9, nesterov=True),\n",
        "              metrics=['accuracy'])"
      ],
      "execution_count": 0,
      "outputs": []
    },
    {
      "metadata": {
        "id": "Ow6TUh4HWk_7",
        "colab_type": "text"
      },
      "cell_type": "markdown",
      "source": [
        "#### 5.2 Training (≖ ‿ ≖)"
      ]
    },
    {
      "metadata": {
        "id": "6get0qRfWgAf",
        "colab_type": "code",
        "colab": {
          "base_uri": "https://localhost:8080/",
          "height": 459
        },
        "outputId": "fe1052e8-487c-42f9-9f31-c989c860379c"
      },
      "cell_type": "code",
      "source": [
        "model.fit(x_train, y_train,\n",
        "          batch_size=batch_size,\n",
        "          epochs=epochs,\n",
        "          verbose=1,\n",
        "          validation_data=(x_test, y_test))"
      ],
      "execution_count": 6,
      "outputs": [
        {
          "output_type": "stream",
          "text": [
            "Train on 60000 samples, validate on 10000 samples\n",
            "Epoch 1/12\n",
            "60000/60000 [==============================] - 9s 154us/step - loss: 0.5004 - acc: 0.8416 - val_loss: 0.1263 - val_acc: 0.9637\n",
            "Epoch 2/12\n",
            "60000/60000 [==============================] - 8s 127us/step - loss: 0.1808 - acc: 0.9458 - val_loss: 0.0747 - val_acc: 0.9768\n",
            "Epoch 3/12\n",
            "60000/60000 [==============================] - 8s 127us/step - loss: 0.1266 - acc: 0.9616 - val_loss: 0.0571 - val_acc: 0.9820\n",
            "Epoch 4/12\n",
            "60000/60000 [==============================] - 8s 127us/step - loss: 0.1052 - acc: 0.9681 - val_loss: 0.0501 - val_acc: 0.9847\n",
            "Epoch 5/12\n",
            "60000/60000 [==============================] - 8s 127us/step - loss: 0.0881 - acc: 0.9730 - val_loss: 0.0461 - val_acc: 0.9851\n",
            "Epoch 6/12\n",
            "60000/60000 [==============================] - 8s 126us/step - loss: 0.0793 - acc: 0.9762 - val_loss: 0.0413 - val_acc: 0.9865\n",
            "Epoch 7/12\n",
            "60000/60000 [==============================] - 8s 126us/step - loss: 0.0712 - acc: 0.9789 - val_loss: 0.0388 - val_acc: 0.9871\n",
            "Epoch 8/12\n",
            "60000/60000 [==============================] - 8s 126us/step - loss: 0.0650 - acc: 0.9802 - val_loss: 0.0346 - val_acc: 0.9874\n",
            "Epoch 9/12\n",
            "60000/60000 [==============================] - 8s 126us/step - loss: 0.0581 - acc: 0.9819 - val_loss: 0.0372 - val_acc: 0.9885\n",
            "Epoch 10/12\n",
            "60000/60000 [==============================] - 8s 127us/step - loss: 0.0548 - acc: 0.9827 - val_loss: 0.0325 - val_acc: 0.9901\n",
            "Epoch 11/12\n",
            "60000/60000 [==============================] - 8s 127us/step - loss: 0.0515 - acc: 0.9836 - val_loss: 0.0322 - val_acc: 0.9901\n",
            "Epoch 12/12\n",
            "60000/60000 [==============================] - 8s 127us/step - loss: 0.0451 - acc: 0.9857 - val_loss: 0.0345 - val_acc: 0.9880\n"
          ],
          "name": "stdout"
        },
        {
          "output_type": "execute_result",
          "data": {
            "text/plain": [
              "<keras.callbacks.History at 0x7fed39b055c0>"
            ]
          },
          "metadata": {
            "tags": []
          },
          "execution_count": 6
        }
      ]
    },
    {
      "metadata": {
        "id": "YiPW-s4oWv4_",
        "colab_type": "text"
      },
      "cell_type": "markdown",
      "source": [
        "#### 5.3 Evaluation ᕦ⊙෴⊙ᕤ"
      ]
    },
    {
      "metadata": {
        "id": "uELdw91iXQGO",
        "colab_type": "code",
        "colab": {
          "base_uri": "https://localhost:8080/",
          "height": 51
        },
        "outputId": "c2eb246c-4192-41a1-ebc4-c225af00caae"
      },
      "cell_type": "code",
      "source": [
        "score = model.evaluate(x_test, y_test, verbose=0)\n",
        "print('Test loss:', score[0])\n",
        "print('Test accuracy:', score[1])"
      ],
      "execution_count": 7,
      "outputs": [
        {
          "output_type": "stream",
          "text": [
            "Test loss: 0.034466968409749096\n",
            "Test accuracy: 0.988\n"
          ],
          "name": "stdout"
        }
      ]
    },
    {
      "metadata": {
        "id": "BST6VVyZZQEb",
        "colab_type": "text"
      },
      "cell_type": "markdown",
      "source": [
        "### 6. Let's go Deeper! ᕕ( ᐛ )ᕗ"
      ]
    },
    {
      "metadata": {
        "id": "W1qjlwc2Ztut",
        "colab_type": "text"
      },
      "cell_type": "markdown",
      "source": [
        "#### 6.1 Architecture"
      ]
    },
    {
      "metadata": {
        "id": "wfLIhEPpZi1m",
        "colab_type": "code",
        "colab": {}
      },
      "cell_type": "code",
      "source": [
        "model = Sequential()\n",
        "model.add(Conv2D(32, kernel_size=(3, 3),\n",
        "                 activation='relu',\n",
        "                 input_shape=input_shape))\n",
        "model.add(Conv2D(64, (3, 3), activation='relu'))\n",
        "model.add(MaxPooling2D(pool_size=(2, 2)))\n",
        "model.add(Conv2D(128, (3, 3), activation='relu'))\n",
        "model.add(MaxPooling2D(pool_size=(2, 2)))\n",
        "model.add(Conv2D(128, (3, 3), activation='relu'))\n",
        "model.add(MaxPooling2D(pool_size=(2, 2)))\n",
        "model.add(Dropout(0.25))\n",
        "model.add(Flatten())\n",
        "model.add(Dense(128, activation='relu'))\n",
        "model.add(Dense(64, activation='relu'))\n",
        "model.add(Dropout(0.5))\n",
        "model.add(Dense(num_classes, activation='softmax'))\n",
        "\n",
        "model.compile(loss=keras.losses.categorical_crossentropy,\n",
        "              optimizer=keras.optimizers.SGD(momentum=0.9, nesterov=True),\n",
        "              metrics=['accuracy'])"
      ],
      "execution_count": 0,
      "outputs": []
    },
    {
      "metadata": {
        "id": "Gri5Vw5gZwUA",
        "colab_type": "text"
      },
      "cell_type": "markdown",
      "source": [
        "#### 6.2 Training"
      ]
    },
    {
      "metadata": {
        "id": "eUg4ZzbmZyyb",
        "colab_type": "code",
        "colab": {
          "base_uri": "https://localhost:8080/",
          "height": 459
        },
        "outputId": "f72bd0e5-c12f-41a6-a12f-75eafd621279"
      },
      "cell_type": "code",
      "source": [
        "model.fit(x_train, y_train,\n",
        "          batch_size=batch_size,\n",
        "          epochs=epochs,\n",
        "          verbose=1,\n",
        "          validation_data=(x_test, y_test))"
      ],
      "execution_count": 9,
      "outputs": [
        {
          "output_type": "stream",
          "text": [
            "Train on 60000 samples, validate on 10000 samples\n",
            "Epoch 1/12\n",
            "60000/60000 [==============================] - 11s 183us/step - loss: 0.8186 - acc: 0.7277 - val_loss: 0.1234 - val_acc: 0.9634\n",
            "Epoch 2/12\n",
            "60000/60000 [==============================] - 10s 173us/step - loss: 0.1952 - acc: 0.9457 - val_loss: 0.0789 - val_acc: 0.9767\n",
            "Epoch 3/12\n",
            "60000/60000 [==============================] - 10s 173us/step - loss: 0.1336 - acc: 0.9648 - val_loss: 0.0605 - val_acc: 0.9827\n",
            "Epoch 4/12\n",
            "60000/60000 [==============================] - 10s 173us/step - loss: 0.1093 - acc: 0.9711 - val_loss: 0.0537 - val_acc: 0.9845\n",
            "Epoch 5/12\n",
            "60000/60000 [==============================] - 10s 173us/step - loss: 0.0907 - acc: 0.9764 - val_loss: 0.0485 - val_acc: 0.9859\n",
            "Epoch 6/12\n",
            "60000/60000 [==============================] - 10s 173us/step - loss: 0.0824 - acc: 0.9779 - val_loss: 0.0476 - val_acc: 0.9872\n",
            "Epoch 7/12\n",
            "60000/60000 [==============================] - 10s 174us/step - loss: 0.0708 - acc: 0.9819 - val_loss: 0.0387 - val_acc: 0.9889\n",
            "Epoch 8/12\n",
            "60000/60000 [==============================] - 10s 174us/step - loss: 0.0635 - acc: 0.9829 - val_loss: 0.0389 - val_acc: 0.9891\n",
            "Epoch 9/12\n",
            "60000/60000 [==============================] - 10s 174us/step - loss: 0.0581 - acc: 0.9848 - val_loss: 0.0424 - val_acc: 0.9884\n",
            "Epoch 10/12\n",
            "60000/60000 [==============================] - 10s 173us/step - loss: 0.0541 - acc: 0.9860 - val_loss: 0.0437 - val_acc: 0.9874\n",
            "Epoch 11/12\n",
            "60000/60000 [==============================] - 10s 174us/step - loss: 0.0481 - acc: 0.9876 - val_loss: 0.0406 - val_acc: 0.9903\n",
            "Epoch 12/12\n",
            "60000/60000 [==============================] - 10s 174us/step - loss: 0.0446 - acc: 0.9875 - val_loss: 0.0385 - val_acc: 0.9917\n"
          ],
          "name": "stdout"
        },
        {
          "output_type": "execute_result",
          "data": {
            "text/plain": [
              "<keras.callbacks.History at 0x7fed33e48a90>"
            ]
          },
          "metadata": {
            "tags": []
          },
          "execution_count": 9
        }
      ]
    },
    {
      "metadata": {
        "id": "qBOz9dbBZ1Jy",
        "colab_type": "text"
      },
      "cell_type": "markdown",
      "source": [
        "#### 6.3 Evaluation"
      ]
    },
    {
      "metadata": {
        "id": "WBlOWs9XZ350",
        "colab_type": "code",
        "colab": {
          "base_uri": "https://localhost:8080/",
          "height": 51
        },
        "outputId": "5c1574b8-e687-4ecf-95c5-a13c33cb2d9d"
      },
      "cell_type": "code",
      "source": [
        "score = model.evaluate(x_test, y_test, verbose=0)\n",
        "print('Test loss:', score[0])\n",
        "print('Test accuracy:', score[1])"
      ],
      "execution_count": 10,
      "outputs": [
        {
          "output_type": "stream",
          "text": [
            "Test loss: 0.03849187142269034\n",
            "Test accuracy: 0.9917\n"
          ],
          "name": "stdout"
        }
      ]
    },
    {
      "metadata": {
        "id": "aLaEOTOpaaXD",
        "colab_type": "code",
        "colab": {}
      },
      "cell_type": "code",
      "source": [
        ""
      ],
      "execution_count": 0,
      "outputs": []
    }
  ]
}