{
  "nbformat": 4,
  "nbformat_minor": 0,
  "metadata": {
    "colab": {
      "name": "getting_started_with_deep_learning.ipynb",
      "version": "0.3.2",
      "provenance": [],
      "collapsed_sections": [],
      "toc_visible": true,
      "include_colab_link": true
    },
    "kernelspec": {
      "name": "python3",
      "display_name": "Python 3"
    },
    "accelerator": "GPU"
  },
  "cells": [
    {
      "cell_type": "markdown",
      "metadata": {
        "id": "view-in-github",
        "colab_type": "text"
      },
      "source": [
        "<a href=\"https://colab.research.google.com/github/soumendra/cnn-visualisation/blob/jawad/notebooks/getting_started_with_deep_learning.ipynb\" target=\"_parent\"><img src=\"https://colab.research.google.com/assets/colab-badge.svg\" alt=\"Open In Colab\"/></a>"
      ]
    },
    {
      "metadata": {
        "id": "b-rza-AISL33",
        "colab_type": "text"
      },
      "cell_type": "markdown",
      "source": [
        "# Getting Started with Deep Learning (using Keras)"
      ]
    },
    {
      "metadata": {
        "id": "YpCvHdUzS3rf",
        "colab_type": "text"
      },
      "cell_type": "markdown",
      "source": [
        "## MNIST"
      ]
    },
    {
      "metadata": {
        "id": "yQjWtIB6Tdt3",
        "colab_type": "text"
      },
      "cell_type": "markdown",
      "source": [
        "### 1. Importing dependencies and setting seeds"
      ]
    },
    {
      "metadata": {
        "id": "EiLJfQ4dW-II",
        "colab_type": "text"
      },
      "cell_type": "markdown",
      "source": [
        " **Importance of Seed**  \n",
        " Neural Network algorithms make heavy use of randomness, be it for initialization of layer weights or to decide which neurons to dropout.  \n",
        " As a result of this randomness, each training run of a neural network, is bound to produce slightly different results.  \n",
        " This can be a nuisance while experimenting. In order to ensure that our experiments are reproducible (getting the same output every time), by us or anyone else who chooses to run them, we need to seed this randomness.  \n",
        "\n",
        "---\n",
        "**Why are we setting two different seeds?**  \n",
        "Keras relies on `numpy` for some of it's randomness, so we need to seed numpy's random number generator.  \n",
        "Additionally, `Tensorflow` uses it's own random number generator, and since we are using Tensorflow, we need to seed it's random number generator as well.  \n",
        "\n",
        "---\n",
        "More info at -> https://machinelearningmastery.com/reproducible-results-neural-networks-keras/"
      ]
    },
    {
      "metadata": {
        "id": "ykL_rx5vTjXR",
        "colab_type": "code",
        "colab": {
          "base_uri": "https://localhost:8080/",
          "height": 34
        },
        "outputId": "f934548d-d551-4790-ed48-34ef736ae03c"
      },
      "cell_type": "code",
      "source": [
        "from numpy.random import seed\n",
        "seed(1)\n",
        "from tensorflow import set_random_seed\n",
        "set_random_seed(2)\n",
        "\n",
        "import keras\n",
        "from keras.datasets import mnist\n",
        "from keras.models import Sequential\n",
        "from keras.layers import Dense, Dropout, Flatten\n",
        "from keras.layers import Conv2D, MaxPooling2D"
      ],
      "execution_count": 1,
      "outputs": [
        {
          "output_type": "stream",
          "text": [
            "Using TensorFlow backend.\n"
          ],
          "name": "stderr"
        }
      ]
    },
    {
      "metadata": {
        "id": "FQqFtAaNTjuD",
        "colab_type": "text"
      },
      "cell_type": "markdown",
      "source": [
        "### 2. Declaring some constants"
      ]
    },
    {
      "metadata": {
        "id": "pZJ7QMPwa7-f",
        "colab_type": "text"
      },
      "cell_type": "markdown",
      "source": [
        "**Epochs**  \n",
        "An `epoch` is said to have completed when our model trains over the entire train dataset `once`.  \n",
        "Hence, number of epochs simply defines the total number of passes our model will make on the entire dataset during training.  \n",
        "\n",
        "---\n",
        "**Batches**  \n",
        "Although the model needs to run over the entire dataset on every epoch, giving the entire dataset as input to the model at once is not feasible. Most of the times our datasets are huge, and using the entire dataset as input will consume a lot of memory.  \n",
        "Hence, we use the concept of batches.  \n",
        "i.e In a single epoch, we make multiple forward and backward passes on the neural network and each time give a subset of entire dataset as input. The size of this subset is called `batch_size`.  \n",
        "This consumes a lot less memory and also helps in training the network faster as we are now updating network weights after every `batch` rather than after every `epoch`.\n"
      ]
    },
    {
      "metadata": {
        "id": "OWO2KI75TuEw",
        "colab_type": "code",
        "colab": {}
      },
      "cell_type": "code",
      "source": [
        "batch_size = 128\n",
        "num_classes = 10\n",
        "epochs = 12\n",
        "\n",
        "# input image dimensions\n",
        "img_rows, img_cols = 28, 28\n",
        "input_shape = (img_rows, img_cols, 1)"
      ],
      "execution_count": 0,
      "outputs": []
    },
    {
      "metadata": {
        "id": "Uc-jLIc7T3Fd",
        "colab_type": "text"
      },
      "cell_type": "markdown",
      "source": [
        "### 3. Loading and making our dataset usable"
      ]
    },
    {
      "metadata": {
        "id": "3B-Zpf5IjCKn",
        "colab_type": "text"
      },
      "cell_type": "markdown",
      "source": [
        "**Why Normalize?**  \n",
        "Normalization in case of image data means dividing it's pixel values by 255.  \n",
        "This brings all pixel values between (0,1).  \n",
        "We've observed that this makes training and convergence much more faster."
      ]
    },
    {
      "metadata": {
        "id": "GMPjfClbT1Em",
        "colab_type": "code",
        "colab": {}
      },
      "cell_type": "code",
      "source": [
        "# the data, split between train and test sets\n",
        "(x_train, y_train), (x_test, y_test) = mnist.load_data()"
      ],
      "execution_count": 0,
      "outputs": []
    },
    {
      "metadata": {
        "id": "Q1IY0ixArcxh",
        "colab_type": "code",
        "colab": {
          "base_uri": "https://localhost:8080/",
          "height": 348
        },
        "outputId": "259fb460-f089-4387-e356-60487b4464f1"
      },
      "cell_type": "code",
      "source": [
        "import matplotlib.pyplot as plt\n",
        "\n",
        "def plot_grid(arr):\n",
        "  f, axarr = plt.subplots(2,2)\n",
        "  axarr[0,0].imshow(arr[0])\n",
        "  axarr[0,1].imshow(arr[1])\n",
        "  axarr[1,0].imshow(arr[2])\n",
        "  axarr[1,1].imshow(arr[3])\n",
        "  \n",
        "  axarr[0,0].axis('off')\n",
        "  axarr[0,1].axis('off')\n",
        "  axarr[1,0].axis('off')\n",
        "  axarr[1,1].axis('off')\n",
        "\n",
        "plot_grid(x_train)"
      ],
      "execution_count": 8,
      "outputs": [
        {
          "output_type": "display_data",
          "data": {
            "image/png": "[encoded data removed]",
            "text/plain": [
              "<Figure size 576x396 with 4 Axes>"
            ]
          },
          "metadata": {
            "tags": []
          }
        }
      ]
    },
    {
      "metadata": {
        "id": "DK2QQgNvrdGK",
        "colab_type": "code",
        "colab": {
          "base_uri": "https://localhost:8080/",
          "height": 68
        },
        "outputId": "b2525c9a-0aea-4216-9bf5-7f6114d4e239"
      },
      "cell_type": "code",
      "source": [
        "x_train = x_train.reshape(x_train.shape[0], img_rows, img_cols, 1)\n",
        "x_test = x_test.reshape(x_test.shape[0], img_rows, img_cols, 1)\n",
        "\n",
        "x_train = x_train.astype('float32')\n",
        "x_test = x_test.astype('float32')\n",
        "x_train /= 255\n",
        "x_test /= 255\n",
        "print('x_train shape:', x_train.shape)\n",
        "print(x_train.shape[0], 'train images')\n",
        "print(x_test.shape[0], 'test images')"
      ],
      "execution_count": 9,
      "outputs": [
        {
          "output_type": "stream",
          "text": [
            "x_train shape: (60000, 28, 28, 1)\n",
            "60000 train images\n",
            "10000 test images\n"
          ],
          "name": "stdout"
        }
      ]
    },
    {
      "metadata": {
        "id": "o-b0g8hhUM99",
        "colab_type": "text"
      },
      "cell_type": "markdown",
      "source": [
        "### 4. One hot encoding of output classes"
      ]
    },
    {
      "metadata": {
        "id": "c_nRENhyUFw0",
        "colab_type": "code",
        "colab": {}
      },
      "cell_type": "code",
      "source": [
        "# convert class vectors to one hot encoding\n",
        "y_train = keras.utils.to_categorical(y_train, num_classes)\n",
        "y_test = keras.utils.to_categorical(y_test, num_classes)"
      ],
      "execution_count": 0,
      "outputs": []
    },
    {
      "metadata": {
        "id": "0iQa24QwUmhr",
        "colab_type": "text"
      },
      "cell_type": "markdown",
      "source": [
        "### 5. Our first Model 😁"
      ]
    },
    {
      "metadata": {
        "id": "fe6FTGajWmH0",
        "colab_type": "text"
      },
      "cell_type": "markdown",
      "source": [
        "#### 5.1 Architecture"
      ]
    },
    {
      "metadata": {
        "id": "NvragukgVDMj",
        "colab_type": "code",
        "colab": {}
      },
      "cell_type": "code",
      "source": [
        "model = Sequential()\n",
        "\n",
        "model.add(Conv2D(32, kernel_size=(3, 3),\n",
        "                 activation='relu',\n",
        "                 input_shape=input_shape))\n",
        "\n",
        "\n",
        "model.add(Conv2D(64, (3, 3), activation='relu'))\n",
        "model.add(MaxPooling2D(pool_size=(2, 2)))\n",
        "\n",
        "model.add(Dropout(0.25))\n",
        "\n",
        "model.add(Flatten())\n",
        "\n",
        "model.add(Dense(128, activation='relu'))\n",
        "model.add(Dropout(0.5))\n",
        "\n",
        "model.add(Dense(num_classes, activation='softmax'))"
      ],
      "execution_count": 0,
      "outputs": []
    },
    {
      "metadata": {
        "id": "Cfi_TOwQtCdP",
        "colab_type": "code",
        "colab": {}
      },
      "cell_type": "code",
      "source": [
        "model.compile(loss=keras.losses.categorical_crossentropy,\n",
        "              optimizer=keras.optimizers.SGD(momentum=0.9, nesterov=True),\n",
        "              metrics=['accuracy'])"
      ],
      "execution_count": 0,
      "outputs": []
    },
    {
      "metadata": {
        "id": "Ow6TUh4HWk_7",
        "colab_type": "text"
      },
      "cell_type": "markdown",
      "source": [
        "#### 5.2 Training (≖ ‿ ≖)"
      ]
    },
    {
      "metadata": {
        "id": "6get0qRfWgAf",
        "colab_type": "code",
        "colab": {
          "base_uri": "https://localhost:8080/",
          "height": 459
        },
        "outputId": "fe1052e8-487c-42f9-9f31-c989c860379c"
      },
      "cell_type": "code",
      "source": [
        "model.fit(x_train, y_train,\n",
        "          batch_size=batch_size,\n",
        "          epochs=epochs,\n",
        "          verbose=1,\n",
        "          validation_data=(x_test, y_test))"
      ],
      "execution_count": 6,
      "outputs": [
        {
          "output_type": "stream",
          "text": [
            "Train on 60000 samples, validate on 10000 samples\n",
            "Epoch 1/12\n",
            "60000/60000 [==============================] - 9s 154us/step - loss: 0.5004 - acc: 0.8416 - val_loss: 0.1263 - val_acc: 0.9637\n",
            "Epoch 2/12\n",
            "60000/60000 [==============================] - 8s 127us/step - loss: 0.1808 - acc: 0.9458 - val_loss: 0.0747 - val_acc: 0.9768\n",
            "Epoch 3/12\n",
            "60000/60000 [==============================] - 8s 127us/step - loss: 0.1266 - acc: 0.9616 - val_loss: 0.0571 - val_acc: 0.9820\n",
            "Epoch 4/12\n",
            "60000/60000 [==============================] - 8s 127us/step - loss: 0.1052 - acc: 0.9681 - val_loss: 0.0501 - val_acc: 0.9847\n",
            "Epoch 5/12\n",
            "60000/60000 [==============================] - 8s 127us/step - loss: 0.0881 - acc: 0.9730 - val_loss: 0.0461 - val_acc: 0.9851\n",
            "Epoch 6/12\n",
            "60000/60000 [==============================] - 8s 126us/step - loss: 0.0793 - acc: 0.9762 - val_loss: 0.0413 - val_acc: 0.9865\n",
            "Epoch 7/12\n",
            "60000/60000 [==============================] - 8s 126us/step - loss: 0.0712 - acc: 0.9789 - val_loss: 0.0388 - val_acc: 0.9871\n",
            "Epoch 8/12\n",
            "60000/60000 [==============================] - 8s 126us/step - loss: 0.0650 - acc: 0.9802 - val_loss: 0.0346 - val_acc: 0.9874\n",
            "Epoch 9/12\n",
            "60000/60000 [==============================] - 8s 126us/step - loss: 0.0581 - acc: 0.9819 - val_loss: 0.0372 - val_acc: 0.9885\n",
            "Epoch 10/12\n",
            "60000/60000 [==============================] - 8s 127us/step - loss: 0.0548 - acc: 0.9827 - val_loss: 0.0325 - val_acc: 0.9901\n",
            "Epoch 11/12\n",
            "60000/60000 [==============================] - 8s 127us/step - loss: 0.0515 - acc: 0.9836 - val_loss: 0.0322 - val_acc: 0.9901\n",
            "Epoch 12/12\n",
            "60000/60000 [==============================] - 8s 127us/step - loss: 0.0451 - acc: 0.9857 - val_loss: 0.0345 - val_acc: 0.9880\n"
          ],
          "name": "stdout"
        },
        {
          "output_type": "execute_result",
          "data": {
            "text/plain": [
              "<keras.callbacks.History at 0x7fed39b055c0>"
            ]
          },
          "metadata": {
            "tags": []
          },
          "execution_count": 6
        }
      ]
    },
    {
      "metadata": {
        "id": "YiPW-s4oWv4_",
        "colab_type": "text"
      },
      "cell_type": "markdown",
      "source": [
        "#### 5.3 Evaluation ᕦ⊙෴⊙ᕤ"
      ]
    },
    {
      "metadata": {
        "id": "uELdw91iXQGO",
        "colab_type": "code",
        "colab": {
          "base_uri": "https://localhost:8080/",
          "height": 51
        },
        "outputId": "c2eb246c-4192-41a1-ebc4-c225af00caae"
      },
      "cell_type": "code",
      "source": [
        "score = model.evaluate(x_test, y_test, verbose=0)\n",
        "print('Test loss:', score[0])\n",
        "print('Test accuracy:', score[1])"
      ],
      "execution_count": 7,
      "outputs": [
        {
          "output_type": "stream",
          "text": [
            "Test loss: 0.034466968409749096\n",
            "Test accuracy: 0.988\n"
          ],
          "name": "stdout"
        }
      ]
    },
    {
      "metadata": {
        "id": "BST6VVyZZQEb",
        "colab_type": "text"
      },
      "cell_type": "markdown",
      "source": [
        "### 6. Let's go Deeper! ᕕ( ᐛ )ᕗ"
      ]
    },
    {
      "metadata": {
        "id": "XKFsLNu5sl4b",
        "colab_type": "text"
      },
      "cell_type": "markdown",
      "source": [
        "![Go Deeper](https://cdn-images-1.medium.com/max/1600/1*RuDCBpDFK4fuBo6W5OFsEw.jpeg)"
      ]
    },
    {
      "metadata": {
        "id": "W1qjlwc2Ztut",
        "colab_type": "text"
      },
      "cell_type": "markdown",
      "source": [
        "#### 6.1 Architecture"
      ]
    },
    {
      "metadata": {
        "id": "wfLIhEPpZi1m",
        "colab_type": "code",
        "colab": {}
      },
      "cell_type": "code",
      "source": [
        "model = Sequential()\n",
        "model.add(Conv2D(32, kernel_size=(3, 3),\n",
        "                 activation='relu',\n",
        "                 input_shape=input_shape))\n",
        "\n",
        "model.add(Conv2D(64, (3, 3), activation='relu'))\n",
        "model.add(MaxPooling2D(pool_size=(2, 2)))\n",
        "\n",
        "model.add(Conv2D(128, (3, 3), activation='relu'))\n",
        "model.add(MaxPooling2D(pool_size=(2, 2)))\n",
        "\n",
        "model.add(Conv2D(128, (3, 3), activation='relu'))\n",
        "model.add(MaxPooling2D(pool_size=(2, 2)))\n",
        "model.add(Dropout(0.25))\n",
        "\n",
        "model.add(Flatten())\n",
        "\n",
        "model.add(Dense(128, activation='relu'))\n",
        "\n",
        "model.add(Dense(64, activation='relu'))\n",
        "model.add(Dropout(0.5))\n",
        "\n",
        "model.add(Dense(num_classes, activation='softmax'))"
      ],
      "execution_count": 0,
      "outputs": []
    },
    {
      "metadata": {
        "id": "9BGWfXSItHxS",
        "colab_type": "code",
        "colab": {}
      },
      "cell_type": "code",
      "source": [
        "model.compile(loss=keras.losses.categorical_crossentropy,\n",
        "              optimizer=keras.optimizers.SGD(momentum=0.9, nesterov=True),\n",
        "              metrics=['accuracy'])"
      ],
      "execution_count": 0,
      "outputs": []
    },
    {
      "metadata": {
        "id": "Gri5Vw5gZwUA",
        "colab_type": "text"
      },
      "cell_type": "markdown",
      "source": [
        "#### 6.2 Training"
      ]
    },
    {
      "metadata": {
        "id": "eUg4ZzbmZyyb",
        "colab_type": "code",
        "colab": {
          "base_uri": "https://localhost:8080/",
          "height": 459
        },
        "outputId": "f72bd0e5-c12f-41a6-a12f-75eafd621279"
      },
      "cell_type": "code",
      "source": [
        "model.fit(x_train, y_train,\n",
        "          batch_size=batch_size,\n",
        "          epochs=epochs,\n",
        "          verbose=1,\n",
        "          validation_data=(x_test, y_test))"
      ],
      "execution_count": 9,
      "outputs": [
        {
          "output_type": "stream",
          "text": [
            "Train on 60000 samples, validate on 10000 samples\n",
            "Epoch 1/12\n",
            "60000/60000 [==============================] - 11s 183us/step - loss: 0.8186 - acc: 0.7277 - val_loss: 0.1234 - val_acc: 0.9634\n",
            "Epoch 2/12\n",
            "60000/60000 [==============================] - 10s 173us/step - loss: 0.1952 - acc: 0.9457 - val_loss: 0.0789 - val_acc: 0.9767\n",
            "Epoch 3/12\n",
            "60000/60000 [==============================] - 10s 173us/step - loss: 0.1336 - acc: 0.9648 - val_loss: 0.0605 - val_acc: 0.9827\n",
            "Epoch 4/12\n",
            "60000/60000 [==============================] - 10s 173us/step - loss: 0.1093 - acc: 0.9711 - val_loss: 0.0537 - val_acc: 0.9845\n",
            "Epoch 5/12\n",
            "60000/60000 [==============================] - 10s 173us/step - loss: 0.0907 - acc: 0.9764 - val_loss: 0.0485 - val_acc: 0.9859\n",
            "Epoch 6/12\n",
            "60000/60000 [==============================] - 10s 173us/step - loss: 0.0824 - acc: 0.9779 - val_loss: 0.0476 - val_acc: 0.9872\n",
            "Epoch 7/12\n",
            "60000/60000 [==============================] - 10s 174us/step - loss: 0.0708 - acc: 0.9819 - val_loss: 0.0387 - val_acc: 0.9889\n",
            "Epoch 8/12\n",
            "60000/60000 [==============================] - 10s 174us/step - loss: 0.0635 - acc: 0.9829 - val_loss: 0.0389 - val_acc: 0.9891\n",
            "Epoch 9/12\n",
            "60000/60000 [==============================] - 10s 174us/step - loss: 0.0581 - acc: 0.9848 - val_loss: 0.0424 - val_acc: 0.9884\n",
            "Epoch 10/12\n",
            "60000/60000 [==============================] - 10s 173us/step - loss: 0.0541 - acc: 0.9860 - val_loss: 0.0437 - val_acc: 0.9874\n",
            "Epoch 11/12\n",
            "60000/60000 [==============================] - 10s 174us/step - loss: 0.0481 - acc: 0.9876 - val_loss: 0.0406 - val_acc: 0.9903\n",
            "Epoch 12/12\n",
            "60000/60000 [==============================] - 10s 174us/step - loss: 0.0446 - acc: 0.9875 - val_loss: 0.0385 - val_acc: 0.9917\n"
          ],
          "name": "stdout"
        },
        {
          "output_type": "execute_result",
          "data": {
            "text/plain": [
              "<keras.callbacks.History at 0x7fed33e48a90>"
            ]
          },
          "metadata": {
            "tags": []
          },
          "execution_count": 9
        }
      ]
    },
    {
      "metadata": {
        "id": "qBOz9dbBZ1Jy",
        "colab_type": "text"
      },
      "cell_type": "markdown",
      "source": [
        "#### 6.3 Evaluation"
      ]
    },
    {
      "metadata": {
        "id": "WBlOWs9XZ350",
        "colab_type": "code",
        "colab": {
          "base_uri": "https://localhost:8080/",
          "height": 51
        },
        "outputId": "5c1574b8-e687-4ecf-95c5-a13c33cb2d9d"
      },
      "cell_type": "code",
      "source": [
        "score = model.evaluate(x_test, y_test, verbose=0)\n",
        "print('Test loss:', score[0])\n",
        "print('Test accuracy:', score[1])"
      ],
      "execution_count": 10,
      "outputs": [
        {
          "output_type": "stream",
          "text": [
            "Test loss: 0.03849187142269034\n",
            "Test accuracy: 0.9917\n"
          ],
          "name": "stdout"
        }
      ]
    },
    {
      "metadata": {
        "id": "n3oQdWiCbi6-",
        "colab_type": "text"
      },
      "cell_type": "markdown",
      "source": [
        "## CIFAR10"
      ]
    },
    {
      "metadata": {
        "colab_type": "text",
        "id": "BcEtYgQ5uOz2"
      },
      "cell_type": "markdown",
      "source": [
        "### 1. Importing dependencies and setting seeds"
      ]
    },
    {
      "metadata": {
        "colab_type": "code",
        "outputId": "cfc8756c-0829-4cc3-835d-fda9dd987857",
        "id": "MPYQ7CAJuO0F",
        "colab": {
          "base_uri": "https://localhost:8080/",
          "height": 34
        }
      },
      "cell_type": "code",
      "source": [
        "from numpy.random import seed\n",
        "seed(1)\n",
        "from tensorflow import set_random_seed\n",
        "set_random_seed(2)\n",
        "\n",
        "import keras\n",
        "from keras.datasets import cifar10\n",
        "from keras.models import Sequential\n",
        "from keras.layers import Dense, Dropout, Flatten, Activation\n",
        "from keras.layers import Conv2D, MaxPooling2D\n",
        "from keras.preprocessing.image import ImageDataGenerator\n",
        "GENERATOR_SEED = 0"
      ],
      "execution_count": 1,
      "outputs": [
        {
          "output_type": "stream",
          "text": [
            "Using TensorFlow backend.\n"
          ],
          "name": "stderr"
        }
      ]
    },
    {
      "metadata": {
        "colab_type": "text",
        "id": "KXN3pkvyuO0S"
      },
      "cell_type": "markdown",
      "source": [
        "### 2. Declaring some constants"
      ]
    },
    {
      "metadata": {
        "colab_type": "code",
        "id": "7hvMYs1EuO0U",
        "colab": {}
      },
      "cell_type": "code",
      "source": [
        "batch_size = 32\n",
        "num_classes = 10\n",
        "epochs = 25\n",
        "\n",
        "# input image dimensions\n",
        "img_rows, img_cols = 32, 32\n",
        "input_shape = (img_rows, img_cols, 3)"
      ],
      "execution_count": 0,
      "outputs": []
    },
    {
      "metadata": {
        "colab_type": "text",
        "id": "tzYhRaNguO0Z"
      },
      "cell_type": "markdown",
      "source": [
        "### 3. Loading and making our dataset usable"
      ]
    },
    {
      "metadata": {
        "colab_type": "code",
        "id": "6Lp_Gns4uO0b",
        "colab": {}
      },
      "cell_type": "code",
      "source": [
        "# the data, split between train and test sets\n",
        "(x_train, y_train), (x_test, y_test) = cifar10.load_data()"
      ],
      "execution_count": 0,
      "outputs": []
    },
    {
      "metadata": {
        "colab_type": "code",
        "outputId": "121504f6-30fd-4e45-ebcb-98b512fc841a",
        "id": "JOyehUQAuO0d",
        "colab": {
          "base_uri": "https://localhost:8080/",
          "height": 349
        }
      },
      "cell_type": "code",
      "source": [
        "import matplotlib.pyplot as plt\n",
        "\n",
        "def plot_grid(arr):\n",
        "  f, axarr = plt.subplots(2,2)\n",
        "  axarr[0,0].imshow(arr[0])\n",
        "  axarr[0,1].imshow(arr[1])\n",
        "  axarr[1,0].imshow(arr[2])\n",
        "  axarr[1,1].imshow(arr[3])\n",
        "  \n",
        "  axarr[0,0].axis('off')\n",
        "  axarr[0,1].axis('off')\n",
        "  axarr[1,0].axis('off')\n",
        "  axarr[1,1].axis('off')\n",
        "\n",
        "plot_grid(x_train)"
      ],
      "execution_count": 4,
      "outputs": [
        {
          "output_type": "display_data",
          "data": {
            "image/png": "[encoded data removed]",
            "text/plain": [
              "<Figure size 576x396 with 4 Axes>"
            ]
          },
          "metadata": {
            "tags": []
          }
        }
      ]
    },
    {
      "metadata": {
        "colab_type": "code",
        "outputId": "591e25a7-a574-4795-bcd5-61927237d8e0",
        "id": "BX6IQrHzuO0h",
        "colab": {
          "base_uri": "https://localhost:8080/",
          "height": 68
        }
      },
      "cell_type": "code",
      "source": [
        "x_train = x_train.astype('float32')\n",
        "x_test = x_test.astype('float32')\n",
        "x_train /= 255\n",
        "x_test /= 255\n",
        "print('x_train shape:', x_train.shape)\n",
        "print(x_train.shape[0], 'train samples')\n",
        "print(x_test.shape[0], 'test samples')"
      ],
      "execution_count": 5,
      "outputs": [
        {
          "output_type": "stream",
          "text": [
            "x_train shape: (50000, 32, 32, 3)\n",
            "50000 train samples\n",
            "10000 test samples\n"
          ],
          "name": "stdout"
        }
      ]
    },
    {
      "metadata": {
        "colab_type": "text",
        "id": "0dVdwiD_uO0m"
      },
      "cell_type": "markdown",
      "source": [
        "### 4. One hot encoding of output classes"
      ]
    },
    {
      "metadata": {
        "colab_type": "code",
        "id": "WrGqT8fAuO0m",
        "colab": {}
      },
      "cell_type": "code",
      "source": [
        "# convert class vectors to one hot encodings\n",
        "y_train = keras.utils.to_categorical(y_train, num_classes)\n",
        "y_test = keras.utils.to_categorical(y_test, num_classes)"
      ],
      "execution_count": 0,
      "outputs": []
    },
    {
      "metadata": {
        "colab_type": "text",
        "id": "ouoCAL6bus-Y"
      },
      "cell_type": "markdown",
      "source": [
        "### 5. Our Star Model 😁"
      ]
    },
    {
      "metadata": {
        "colab_type": "text",
        "id": "Zernbsu-us-a"
      },
      "cell_type": "markdown",
      "source": [
        "#### 5.1 Architecture"
      ]
    },
    {
      "metadata": {
        "colab_type": "code",
        "id": "C3Z8Z9UNus-c",
        "colab": {}
      },
      "cell_type": "code",
      "source": [
        "model = Sequential()\n",
        "model.add(Conv2D(32, kernel_size=(3, 3),\n",
        "                 activation='relu',\n",
        "                 input_shape=input_shape))\n",
        "\n",
        "model.add(Conv2D(64, (3, 3), activation='relu'))\n",
        "model.add(MaxPooling2D(pool_size=(2, 2)))\n",
        "\n",
        "model.add(Conv2D(128, (3, 3), activation='relu'))\n",
        "model.add(MaxPooling2D(pool_size=(2, 2)))\n",
        "\n",
        "model.add(Conv2D(128, (3, 3), activation='relu'))\n",
        "model.add(MaxPooling2D(pool_size=(2, 2)))\n",
        "model.add(Dropout(0.25))\n",
        "\n",
        "model.add(Flatten())\n",
        "\n",
        "model.add(Dense(128, activation='relu'))\n",
        "\n",
        "model.add(Dense(64, activation='relu'))\n",
        "model.add(Dropout(0.5))\n",
        "\n",
        "model.add(Dense(num_classes, activation='softmax'))"
      ],
      "execution_count": 0,
      "outputs": []
    },
    {
      "metadata": {
        "colab_type": "code",
        "id": "ElrmRftEus-h",
        "colab": {}
      },
      "cell_type": "code",
      "source": [
        "model.compile(loss=keras.losses.categorical_crossentropy,\n",
        "              optimizer=keras.optimizers.SGD(momentum=0.9, nesterov=True),\n",
        "              metrics=['accuracy'])"
      ],
      "execution_count": 0,
      "outputs": []
    },
    {
      "metadata": {
        "colab_type": "text",
        "id": "CLl-VSklus-p"
      },
      "cell_type": "markdown",
      "source": [
        "#### 5.2 Training (≖ ‿ ≖)"
      ]
    },
    {
      "metadata": {
        "colab_type": "code",
        "outputId": "c213891b-99c8-4ecf-e479-1fcf59a18e99",
        "id": "tUyut9Rhus-s",
        "colab": {
          "base_uri": "https://localhost:8080/",
          "height": 901
        }
      },
      "cell_type": "code",
      "source": [
        "model.fit(x_train, y_train,\n",
        "          batch_size=batch_size,\n",
        "          epochs=epochs,\n",
        "          verbose=1,\n",
        "          validation_data=(x_test, y_test))"
      ],
      "execution_count": 30,
      "outputs": [
        {
          "output_type": "stream",
          "text": [
            "Train on 50000 samples, validate on 10000 samples\n",
            "Epoch 1/25\n",
            "50000/50000 [==============================] - 26s 511us/step - loss: 1.8910 - acc: 0.2825 - val_loss: 1.4262 - val_acc: 0.4684\n",
            "Epoch 2/25\n",
            "50000/50000 [==============================] - 24s 473us/step - loss: 1.4558 - acc: 0.4731 - val_loss: 1.2817 - val_acc: 0.5373\n",
            "Epoch 3/25\n",
            "50000/50000 [==============================] - 23s 463us/step - loss: 1.2397 - acc: 0.5650 - val_loss: 1.0588 - val_acc: 0.6263\n",
            "Epoch 4/25\n",
            "50000/50000 [==============================] - 23s 462us/step - loss: 1.0986 - acc: 0.6201 - val_loss: 1.0068 - val_acc: 0.6468\n",
            "Epoch 5/25\n",
            "50000/50000 [==============================] - 23s 454us/step - loss: 0.9926 - acc: 0.6606 - val_loss: 0.8894 - val_acc: 0.6952\n",
            "Epoch 6/25\n",
            "50000/50000 [==============================] - 23s 455us/step - loss: 0.9197 - acc: 0.6891 - val_loss: 0.8712 - val_acc: 0.7033\n",
            "Epoch 7/25\n",
            "50000/50000 [==============================] - 23s 457us/step - loss: 0.8605 - acc: 0.7109 - val_loss: 0.8493 - val_acc: 0.7149\n",
            "Epoch 8/25\n",
            "50000/50000 [==============================] - 23s 455us/step - loss: 0.8059 - acc: 0.7326 - val_loss: 0.7835 - val_acc: 0.7392\n",
            "Epoch 9/25\n",
            "50000/50000 [==============================] - 22s 447us/step - loss: 0.7696 - acc: 0.7456 - val_loss: 0.7637 - val_acc: 0.7455\n",
            "Epoch 10/25\n",
            "50000/50000 [==============================] - 22s 448us/step - loss: 0.7370 - acc: 0.7559 - val_loss: 0.7906 - val_acc: 0.7459\n",
            "Epoch 11/25\n",
            "50000/50000 [==============================] - 22s 450us/step - loss: 0.7125 - acc: 0.7658 - val_loss: 0.7891 - val_acc: 0.7345\n",
            "Epoch 12/25\n",
            "50000/50000 [==============================] - 23s 454us/step - loss: 0.6906 - acc: 0.7724 - val_loss: 0.7761 - val_acc: 0.7555\n",
            "Epoch 13/25\n",
            "50000/50000 [==============================] - 23s 460us/step - loss: 0.6631 - acc: 0.7814 - val_loss: 0.7624 - val_acc: 0.7518\n",
            "Epoch 14/25\n",
            "50000/50000 [==============================] - 23s 460us/step - loss: 0.6564 - acc: 0.7862 - val_loss: 0.7846 - val_acc: 0.7540\n",
            "Epoch 15/25\n",
            "50000/50000 [==============================] - 23s 463us/step - loss: 0.6273 - acc: 0.7933 - val_loss: 0.8109 - val_acc: 0.7494\n",
            "Epoch 16/25\n",
            "50000/50000 [==============================] - 23s 461us/step - loss: 0.6210 - acc: 0.7977 - val_loss: 0.8249 - val_acc: 0.7580\n",
            "Epoch 17/25\n",
            "50000/50000 [==============================] - 23s 461us/step - loss: 0.6150 - acc: 0.8010 - val_loss: 0.7893 - val_acc: 0.7448\n",
            "Epoch 18/25\n",
            "50000/50000 [==============================] - 23s 460us/step - loss: 0.5949 - acc: 0.8079 - val_loss: 0.7933 - val_acc: 0.7574\n",
            "Epoch 19/25\n",
            "50000/50000 [==============================] - 23s 461us/step - loss: 0.5908 - acc: 0.8093 - val_loss: 0.8160 - val_acc: 0.7532\n",
            "Epoch 20/25\n",
            "50000/50000 [==============================] - 23s 461us/step - loss: 0.5806 - acc: 0.8134 - val_loss: 0.7852 - val_acc: 0.7560\n",
            "Epoch 21/25\n",
            "50000/50000 [==============================] - 23s 462us/step - loss: 0.5735 - acc: 0.8163 - val_loss: 0.8197 - val_acc: 0.7627\n",
            "Epoch 22/25\n",
            "50000/50000 [==============================] - 23s 461us/step - loss: 0.5803 - acc: 0.8158 - val_loss: 0.8791 - val_acc: 0.7408\n",
            "Epoch 23/25\n",
            "50000/50000 [==============================] - 23s 461us/step - loss: 0.5576 - acc: 0.8233 - val_loss: 0.9092 - val_acc: 0.7391\n",
            "Epoch 24/25\n",
            "50000/50000 [==============================] - 23s 456us/step - loss: 0.5759 - acc: 0.8191 - val_loss: 0.7806 - val_acc: 0.7633\n",
            "Epoch 25/25\n",
            "50000/50000 [==============================] - 23s 458us/step - loss: 0.5671 - acc: 0.8231 - val_loss: 0.8720 - val_acc: 0.7503\n"
          ],
          "name": "stdout"
        },
        {
          "output_type": "execute_result",
          "data": {
            "text/plain": [
              "<keras.callbacks.History at 0x7fdbb96542e8>"
            ]
          },
          "metadata": {
            "tags": []
          },
          "execution_count": 30
        }
      ]
    },
    {
      "metadata": {
        "colab_type": "text",
        "id": "ykFBvpRmus-z"
      },
      "cell_type": "markdown",
      "source": [
        "#### 5.3 Evaluation ᕦ⊙෴⊙ᕤ"
      ]
    },
    {
      "metadata": {
        "colab_type": "code",
        "outputId": "a6fa2fc7-1e30-4a48-fa03-9f05b9013892",
        "id": "iCUxiYH0us-z",
        "colab": {
          "base_uri": "https://localhost:8080/",
          "height": 51
        }
      },
      "cell_type": "code",
      "source": [
        "score = model.evaluate(x_test, y_test, verbose=0)\n",
        "print('Test loss:', score[0])\n",
        "print('Test accuracy:', score[1])"
      ],
      "execution_count": 31,
      "outputs": [
        {
          "output_type": "stream",
          "text": [
            "Test loss: 0.8720045260429382\n",
            "Test accuracy: 0.7503\n"
          ],
          "name": "stdout"
        }
      ]
    },
    {
      "metadata": {
        "colab_type": "text",
        "id": "NVGI0XRx0mrS"
      },
      "cell_type": "markdown",
      "source": [
        "### 6. Our Star Model  with Data Augmentation"
      ]
    },
    {
      "metadata": {
        "colab_type": "text",
        "id": "GbDWeuCu0mrY"
      },
      "cell_type": "markdown",
      "source": [
        "#### 6.1 Architecture"
      ]
    },
    {
      "metadata": {
        "colab_type": "code",
        "id": "VYG83gcD0mrc",
        "colab": {}
      },
      "cell_type": "code",
      "source": [
        "model = Sequential()\n",
        "model.add(Conv2D(32, kernel_size=(3, 3),\n",
        "                 activation='relu',\n",
        "                 input_shape=input_shape))\n",
        "\n",
        "model.add(Conv2D(64, (3, 3), activation='relu'))\n",
        "model.add(MaxPooling2D(pool_size=(2, 2)))\n",
        "\n",
        "model.add(Conv2D(128, (3, 3), activation='relu'))\n",
        "model.add(MaxPooling2D(pool_size=(2, 2)))\n",
        "\n",
        "model.add(Conv2D(128, (3, 3), activation='relu'))\n",
        "model.add(MaxPooling2D(pool_size=(2, 2)))\n",
        "model.add(Dropout(0.25))\n",
        "\n",
        "model.add(Flatten())\n",
        "\n",
        "model.add(Dense(128, activation='relu'))\n",
        "\n",
        "model.add(Dense(64, activation='relu'))\n",
        "model.add(Dropout(0.5))\n",
        "\n",
        "model.add(Dense(num_classes, activation='softmax'))"
      ],
      "execution_count": 0,
      "outputs": []
    },
    {
      "metadata": {
        "colab_type": "code",
        "id": "o8aPfCXW0mrm",
        "colab": {}
      },
      "cell_type": "code",
      "source": [
        "model.compile(loss=keras.losses.categorical_crossentropy,\n",
        "              optimizer=keras.optimizers.SGD(momentum=0.9, nesterov=True),\n",
        "              metrics=['accuracy'])"
      ],
      "execution_count": 0,
      "outputs": []
    },
    {
      "metadata": {
        "colab_type": "text",
        "id": "EVomM0JE0mrt"
      },
      "cell_type": "markdown",
      "source": [
        "#### 6.2 Training (≖ ‿ ≖)"
      ]
    },
    {
      "metadata": {
        "colab_type": "code",
        "outputId": "f4f90a47-35ce-40ab-9901-f80f82a6af61",
        "id": "UAiouAP40mru",
        "colab": {
          "base_uri": "https://localhost:8080/",
          "height": 884
        }
      },
      "cell_type": "code",
      "source": [
        "datagen = ImageDataGenerator(\n",
        "        width_shift_range=0.1,  # randomly shift images horizontally (fraction of total width)\n",
        "        height_shift_range=0.1,  # randomly shift images vertically (fraction of total height)\n",
        "        zoom_range=0.1,  # range for random zoom\n",
        "        horizontal_flip=True,  # randomly flip images\n",
        ")\n",
        "\n",
        "# Fit the model on the batches generated by datagen.flow()\n",
        "model.fit_generator(datagen.flow(x_train, y_train, batch_size=batch_size, seed=GENERATOR_SEED),\n",
        "                    epochs=epochs,\n",
        "                    steps_per_epoch=x_train.shape[0] // batch_size,\n",
        "                    validation_data=(x_test, y_test))"
      ],
      "execution_count": 34,
      "outputs": [
        {
          "output_type": "stream",
          "text": [
            "Epoch 1/25\n",
            "1562/1562 [==============================] - 41s 26ms/step - loss: 1.9736 - acc: 0.2567 - val_loss: 1.5962 - val_acc: 0.4149\n",
            "Epoch 2/25\n",
            "1562/1562 [==============================] - 41s 26ms/step - loss: 1.6023 - acc: 0.4142 - val_loss: 1.3369 - val_acc: 0.5102\n",
            "Epoch 3/25\n",
            "1562/1562 [==============================] - 41s 26ms/step - loss: 1.4174 - acc: 0.4954 - val_loss: 1.1458 - val_acc: 0.5770\n",
            "Epoch 4/25\n",
            "1562/1562 [==============================] - 41s 26ms/step - loss: 1.2926 - acc: 0.5479 - val_loss: 1.0401 - val_acc: 0.6277\n",
            "Epoch 5/25\n",
            "1562/1562 [==============================] - 41s 27ms/step - loss: 1.1948 - acc: 0.5871 - val_loss: 0.9687 - val_acc: 0.6620\n",
            "Epoch 6/25\n",
            "1562/1562 [==============================] - 41s 27ms/step - loss: 1.1276 - acc: 0.6128 - val_loss: 0.9314 - val_acc: 0.6765\n",
            "Epoch 7/25\n",
            "1562/1562 [==============================] - 41s 26ms/step - loss: 1.0719 - acc: 0.6333 - val_loss: 0.9756 - val_acc: 0.6590\n",
            "Epoch 8/25\n",
            "1562/1562 [==============================] - 42s 27ms/step - loss: 1.0280 - acc: 0.6535 - val_loss: 0.9859 - val_acc: 0.6801\n",
            "Epoch 9/25\n",
            "1562/1562 [==============================] - 42s 27ms/step - loss: 0.9915 - acc: 0.6679 - val_loss: 0.8094 - val_acc: 0.7255\n",
            "Epoch 10/25\n",
            "1562/1562 [==============================] - 42s 27ms/step - loss: 0.9671 - acc: 0.6771 - val_loss: 0.7770 - val_acc: 0.7370\n",
            "Epoch 11/25\n",
            "1562/1562 [==============================] - 42s 27ms/step - loss: 0.9393 - acc: 0.6867 - val_loss: 0.7832 - val_acc: 0.7349\n",
            "Epoch 12/25\n",
            "1562/1562 [==============================] - 42s 27ms/step - loss: 0.9284 - acc: 0.6906 - val_loss: 0.8378 - val_acc: 0.7214\n",
            "Epoch 13/25\n",
            "1562/1562 [==============================] - 41s 26ms/step - loss: 0.9033 - acc: 0.7007 - val_loss: 0.8000 - val_acc: 0.7319\n",
            "Epoch 14/25\n",
            "1562/1562 [==============================] - 42s 27ms/step - loss: 0.8951 - acc: 0.7073 - val_loss: 0.7739 - val_acc: 0.7416\n",
            "Epoch 15/25\n",
            "1562/1562 [==============================] - 42s 27ms/step - loss: 0.8785 - acc: 0.7098 - val_loss: 0.7849 - val_acc: 0.7463\n",
            "Epoch 16/25\n",
            "1562/1562 [==============================] - 41s 26ms/step - loss: 0.8745 - acc: 0.7125 - val_loss: 0.7458 - val_acc: 0.7486\n",
            "Epoch 17/25\n",
            "1562/1562 [==============================] - 41s 27ms/step - loss: 0.8676 - acc: 0.7169 - val_loss: 0.7750 - val_acc: 0.7458\n",
            "Epoch 18/25\n",
            "1562/1562 [==============================] - 41s 26ms/step - loss: 0.8616 - acc: 0.7176 - val_loss: 0.7314 - val_acc: 0.7613\n",
            "Epoch 19/25\n",
            "1562/1562 [==============================] - 41s 26ms/step - loss: 0.8487 - acc: 0.7249 - val_loss: 0.7211 - val_acc: 0.7615\n",
            "Epoch 20/25\n",
            "1562/1562 [==============================] - 40s 26ms/step - loss: 0.8357 - acc: 0.7280 - val_loss: 0.7541 - val_acc: 0.7607\n",
            "Epoch 21/25\n",
            "1562/1562 [==============================] - 40s 26ms/step - loss: 0.8380 - acc: 0.7288 - val_loss: 0.7509 - val_acc: 0.7576\n",
            "Epoch 22/25\n",
            "1562/1562 [==============================] - 41s 26ms/step - loss: 0.8301 - acc: 0.7312 - val_loss: 0.6985 - val_acc: 0.7689\n",
            "Epoch 23/25\n",
            "1562/1562 [==============================] - 41s 26ms/step - loss: 0.8267 - acc: 0.7330 - val_loss: 0.7326 - val_acc: 0.7605\n",
            "Epoch 24/25\n",
            "1562/1562 [==============================] - 41s 26ms/step - loss: 0.8243 - acc: 0.7322 - val_loss: 0.7610 - val_acc: 0.7685\n",
            "Epoch 25/25\n",
            "1562/1562 [==============================] - 41s 26ms/step - loss: 0.8148 - acc: 0.7370 - val_loss: 0.7150 - val_acc: 0.7651\n"
          ],
          "name": "stdout"
        },
        {
          "output_type": "execute_result",
          "data": {
            "text/plain": [
              "<keras.callbacks.History at 0x7fdbb9e28828>"
            ]
          },
          "metadata": {
            "tags": []
          },
          "execution_count": 34
        }
      ]
    },
    {
      "metadata": {
        "colab_type": "text",
        "id": "-depFtJw0mr2"
      },
      "cell_type": "markdown",
      "source": [
        "#### 6.3 Evaluation ᕦ⊙෴⊙ᕤ"
      ]
    },
    {
      "metadata": {
        "colab_type": "code",
        "outputId": "a27e9147-54d4-4ef6-ef83-c6abb4269d89",
        "id": "nnmM8dWf0mr3",
        "colab": {
          "base_uri": "https://localhost:8080/",
          "height": 51
        }
      },
      "cell_type": "code",
      "source": [
        "score = model.evaluate(x_test, y_test, verbose=0)\n",
        "print('Test loss:', score[0])\n",
        "print('Test accuracy:', score[1])"
      ],
      "execution_count": 35,
      "outputs": [
        {
          "output_type": "stream",
          "text": [
            "Test loss: 0.7150107093334198\n",
            "Test accuracy: 0.7651\n"
          ],
          "name": "stdout"
        }
      ]
    },
    {
      "metadata": {
        "id": "pnp8K9Mx44aO",
        "colab_type": "text"
      },
      "cell_type": "markdown",
      "source": [
        "#### Visualizing augmented images"
      ]
    },
    {
      "metadata": {
        "id": "TifxUrIA485F",
        "colab_type": "code",
        "colab": {}
      },
      "cell_type": "code",
      "source": [
        "train_datagen = datagen.flow(x_train, y_train, batch_size=batch_size, seed=GENERATOR_SEED)"
      ],
      "execution_count": 0,
      "outputs": []
    },
    {
      "metadata": {
        "id": "Xs1mSUFn5KOT",
        "colab_type": "code",
        "colab": {
          "base_uri": "https://localhost:8080/",
          "height": 349
        },
        "outputId": "b2272e70-1bd7-454c-b36a-5823f66228c0"
      },
      "cell_type": "code",
      "source": [
        "plot_grid(train_datagen.next()[0])"
      ],
      "execution_count": 9,
      "outputs": [
        {
          "output_type": "display_data",
          "data": {
            "image/png": "[encoded data removed]",
            "text/plain": [
              "<Figure size 576x396 with 4 Axes>"
            ]
          },
          "metadata": {
            "tags": []
          }
        }
      ]
    }
  ]
}